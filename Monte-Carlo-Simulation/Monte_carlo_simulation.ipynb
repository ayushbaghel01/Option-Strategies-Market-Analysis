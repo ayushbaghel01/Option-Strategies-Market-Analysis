{
 "cells": [
  {
   "cell_type": "markdown",
   "metadata": {},
   "source": [
    "Importing Required Libraries"
   ]
  },
  {
   "cell_type": "code",
   "execution_count": 1,
   "metadata": {},
   "outputs": [],
   "source": [
    "import numpy as np\n",
    "import pandas as pd\n",
    "import yfinance as yf\n"
   ]
  },
  {
   "cell_type": "markdown",
   "metadata": {},
   "source": [
    "Calculating Annual Returns and Volatility from Historical data"
   ]
  },
  {
   "cell_type": "code",
   "execution_count": 63,
   "metadata": {},
   "outputs": [
    {
     "name": "stderr",
     "output_type": "stream",
     "text": [
      "[*********************100%%**********************]  1 of 1 completed"
     ]
    },
    {
     "name": "stdout",
     "output_type": "stream",
     "text": [
      "Annual Return: 9.00%\n",
      "Annual Volatility: 17.37%\n"
     ]
    },
    {
     "name": "stderr",
     "output_type": "stream",
     "text": [
      "\n"
     ]
    }
   ],
   "source": [
    "ticker = 'RELIANCE.NS'\n",
    "start_date = '2023-01-01'\n",
    "end_date = '2024-01-01'\n",
    "data = yf.download(ticker, start=start_date, end=end_date)\n",
    "\n",
    "data['Log Return'] = np.log(data['Adj Close'] / data['Adj Close'].shift(1))\n",
    "data = data.dropna()\n",
    "average_daily_log_return = data['Log Return'].mean()\n",
    "annual_return = average_daily_log_return * 252\n",
    "daily_volatility = data['Log Return'].std()\n",
    "annual_volatility = daily_volatility * np.sqrt(252)\n",
    "print(f\"Annual Return: {annual_return * 100:.2f}%\")\n",
    "print(f\"Annual Volatility: {annual_volatility * 100:.2f}%\")\n",
    "annual_volatility = annual_volatility\n",
    "annual_return = annual_return\n"
   ]
  },
  {
   "cell_type": "markdown",
   "metadata": {},
   "source": [
    "Taken Actual Data and Calculated Option call and put premium"
   ]
  },
  {
   "cell_type": "code",
   "execution_count": 70,
   "metadata": {},
   "outputs": [
    {
     "name": "stdout",
     "output_type": "stream",
     "text": [
      "Call Option Price: 50.71840081598749\n",
      "Put Option Price: 54.51545638983146\n"
     ]
    }
   ],
   "source": [
    "\n",
    "spot_price = 3161\n",
    "strike_price = 3180\n",
    "\n",
    "time_frame =15/252\n",
    "volatility = round(annual_volatility*np.sqrt(time_frame),3)\n",
    "returns = round(np.power((1 + annual_return),time_frame),3)\n",
    "returns = returns -1\n",
    "risk_free_rate = 0.07 \n",
    "iterations = 10000\n",
    "call_payoffs = []\n",
    "put_payoffs = []\n",
    "\n",
    "for i in range(iterations):\n",
    "    random_return = np.random.normal(returns, volatility)\n",
    "\n",
    "    future_price = spot_price * (1 + random_return)\n",
    "    call_payoff = max(future_price - strike_price, 0)\n",
    "    put_payoff = max(strike_price - future_price, 0)\n",
    "    \n",
    "    call_payoffs.append(np.exp(-risk_free_rate * time_frame) * call_payoff)\n",
    "    put_payoffs.append(np.exp(-risk_free_rate * time_frame) * put_payoff)\n",
    "\n",
    "call_option_price = np.mean(call_payoffs)\n",
    "put_option_price = np.mean(put_payoffs)\n",
    "\n",
    "print(\"Call Option Price:\", call_option_price)\n",
    "print(\"Put Option Price:\", put_option_price)"
   ]
  }
 ],
 "metadata": {
  "kernelspec": {
   "display_name": "Python 3",
   "language": "python",
   "name": "python3"
  },
  "language_info": {
   "codemirror_mode": {
    "name": "ipython",
    "version": 3
   },
   "file_extension": ".py",
   "mimetype": "text/x-python",
   "name": "python",
   "nbconvert_exporter": "python",
   "pygments_lexer": "ipython3",
   "version": "3.12.4"
  }
 },
 "nbformat": 4,
 "nbformat_minor": 2
}
